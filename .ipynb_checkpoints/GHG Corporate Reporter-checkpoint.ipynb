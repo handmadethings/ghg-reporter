{
 "cells": [
  {
   "cell_type": "markdown",
   "id": "0b350bb0",
   "metadata": {},
   "source": [
    "# GHG Reporter"
   ]
  },
  {
   "cell_type": "markdown",
   "id": "109fce7e",
   "metadata": {},
   "source": [
    "A notebook for GHG Protocol Corporate standard reporting"
   ]
  },
  {
   "cell_type": "markdown",
   "id": "2dfc15b1",
   "metadata": {},
   "source": [
    "## GHG Protocol"
   ]
  },
  {
   "cell_type": "markdown",
   "id": "8f394936",
   "metadata": {},
   "source": [
    "### Scope\n",
    "\n",
    "#### Scope 1: Direkta emissioner\n",
    "Direkta emissioner av växthusgaser fråån källor soms ägs eller kontrolleras av företaget. Till exempel utsläpp från fordon, annan förbränning, eller från kemiska processer.\n",
    "\n",
    "Direkta CO2-emissioner från förbränning av biomassa ingår ej i Scope 1 utan rapporteras separat.\n",
    "\n",
    "Övriga växthusgaser som ej täcks av Kyoto-protokollet, t.ex. CFCs, NOx, etc. ingår inte i scope 1 men kan rapporteras separat.\n",
    "\n",
    "#### Scope 2: Indirekta emissioner\n",
    "Emissioner av växthusgaser inköpt el, fjärrvärme och fjärrkyla som används av företaget. Utsläpp sker där energin produceras.\n",
    "\n",
    "\n",
    "#### Scope 3: Övrigt indirekta emissioner uppströms\n",
    "Utsläpp från uppströms verksamheter som inte ägs eller kontrolleras av företaget, men som en konsekvens av företagets aktiviteter.\n",
    "\n",
    "1. Inköpta varor och tjänster\n",
    "2. Kapitalvaror\n",
    "3. Bränsle- och energirelaterade utsläpp\n",
    "4. Transporter\n",
    "5. Avfallshantering\n",
    "6. Tjänsteresor\n",
    "7. Pendlingsresor\n",
    "8. Hyrda tillgångar\n",
    "\n",
    "#### Scope 3: Övrigt indirekta emissioner nedströms\n",
    "Utsläpp från uppströms verksamheter som inte ägs eller kontrolleras av företaget, men som en konsekvens av företagets aktiviteter.\n",
    "\n",
    "9. Transporter\n",
    "10. Bearbetning av såld produkt\n",
    "11. Användning av sålda produkter\n",
    "12. Avfallshantering av sålda produkter\n",
    "13. uthyrd tillgång\n",
    "14. Franchise\n",
    "15. Investeringar"
   ]
  },
  {
   "cell_type": "markdown",
   "id": "cc43c43d",
   "metadata": {},
   "source": [
    "## Imports"
   ]
  },
  {
   "cell_type": "code",
   "execution_count": 3,
   "id": "17cb8cde",
   "metadata": {},
   "outputs": [],
   "source": [
    "import pandas as pd\n",
    "pd.__version__\n",
    "\n",
    "import matplotlib.pyplot as plt"
   ]
  },
  {
   "cell_type": "code",
   "execution_count": null,
   "id": "0fa94782",
   "metadata": {},
   "outputs": [],
   "source": []
  }
 ],
 "metadata": {
  "kernelspec": {
   "display_name": "Python 3 (ipykernel)",
   "language": "python",
   "name": "python3"
  },
  "language_info": {
   "codemirror_mode": {
    "name": "ipython",
    "version": 3
   },
   "file_extension": ".py",
   "mimetype": "text/x-python",
   "name": "python",
   "nbconvert_exporter": "python",
   "pygments_lexer": "ipython3",
   "version": "3.9.13"
  }
 },
 "nbformat": 4,
 "nbformat_minor": 5
}
