{
 "cells": [
  {
   "cell_type": "markdown",
   "id": "0b350bb0",
   "metadata": {},
   "source": [
    "# GHG Reporter"
   ]
  },
  {
   "cell_type": "markdown",
   "id": "109fce7e",
   "metadata": {},
   "source": [
    "A notebook for GHG Protocol Corporate standard reporting"
   ]
  },
  {
   "cell_type": "markdown",
   "id": "2dfc15b1",
   "metadata": {},
   "source": [
    "## GHG Protocol"
   ]
  },
  {
   "cell_type": "markdown",
   "id": "8f394936",
   "metadata": {},
   "source": [
    "### Scope\n",
    "\n",
    "#### Scope 1: Direkta emissioner\n",
    "Direkta emissioner av växthusgaser fråån källor soms ägs eller kontrolleras av företaget. Till exempel utsläpp från fordon, annan förbränning, eller från kemiska processer.\n",
    "\n",
    "Direkta CO2-emissioner från förbränning av biomassa ingår ej i Scope 1 utan rapporteras separat.\n",
    "\n",
    "Övriga växthusgaser som ej täcks av Kyoto-protokollet, t.ex. CFCs, NOx, etc. ingår inte i scope 1 men kan rapporteras separat.\n",
    "\n",
    "#### Scope 2: Indirekta emissioner\n",
    "Emissioner av växthusgaser inköpt el, fjärrvärme och fjärrkyla som används av företaget. Utsläpp sker där energin produceras.\n",
    "\n",
    "\n",
    "#### Scope 3: Övrigt indirekta emissioner uppströms\n",
    "Utsläpp från uppströms verksamheter som inte ägs eller kontrolleras av företaget, men som en konsekvens av företagets aktiviteter.\n",
    "\n",
    "1. Inköpta varor och tjänster\n",
    "2. Kapitalvaror\n",
    "3. Bränsle- och energirelaterade utsläpp\n",
    "4. Transporter\n",
    "5. Avfallshantering\n",
    "6. Tjänsteresor\n",
    "7. Pendlingsresor\n",
    "8. Hyrda tillgångar\n",
    "\n",
    "#### Scope 3: Övrigt indirekta emissioner nedströms\n",
    "Utsläpp från uppströms verksamheter som inte ägs eller kontrolleras av företaget, men som en konsekvens av företagets aktiviteter.\n",
    "\n",
    "9. Transporter\n",
    "10. Bearbetning av såld produkt\n",
    "11. Användning av sålda produkter\n",
    "12. Avfallshantering av sålda produkter\n",
    "13. uthyrd tillgång\n",
    "14. Franchise\n",
    "15. Investeringar"
   ]
  },
  {
   "cell_type": "markdown",
   "id": "cc43c43d",
   "metadata": {},
   "source": [
    "## Imports"
   ]
  },
  {
   "cell_type": "code",
   "execution_count": 74,
   "id": "17cb8cde",
   "metadata": {},
   "outputs": [],
   "source": [
    "import os\n",
    "import pandas as pd\n",
    "pd.__version__\n",
    "\n",
    "import matplotlib.pyplot as plt"
   ]
  },
  {
   "cell_type": "markdown",
   "id": "64ee393e",
   "metadata": {},
   "source": [
    "## Setup"
   ]
  },
  {
   "cell_type": "markdown",
   "id": "657aa6ee",
   "metadata": {},
   "source": [
    "### Emissions data"
   ]
  },
  {
   "cell_type": "code",
   "execution_count": 75,
   "id": "453f9dae",
   "metadata": {},
   "outputs": [],
   "source": [
    "emissions_data = pd.ExcelFile('emission-factors.xlsx')\n",
    "df_passenger_car_emissions = pd.read_excel(emissions_data, 'Emissionsfaktorer personbilar')"
   ]
  },
  {
   "cell_type": "code",
   "execution_count": 76,
   "id": "5127a04b",
   "metadata": {},
   "outputs": [
    {
     "name": "stdout",
     "output_type": "stream",
     "text": [
      "C:\\Users\\thomas.gustafsson\\Jupyter Notebooks\\ghg-reporter\\Reporting Data\n"
     ]
    }
   ],
   "source": [
    "# Base directory for report sheets. Edit as needed.\n",
    "cwd = os.getcwd()\n",
    "report_sheet_directory = cwd + '\\Reporting Data'\n",
    "print(report_sheet_directory)"
   ]
  },
  {
   "cell_type": "markdown",
   "id": "3183d0fc",
   "metadata": {},
   "source": [
    "## File imports/loading"
   ]
  },
  {
   "cell_type": "code",
   "execution_count": 77,
   "id": "d09579ba",
   "metadata": {},
   "outputs": [],
   "source": [
    "for subdir, dirs, files in os.walk(report_sheet_directory):\n",
    "    for file in files:\n",
    "        if file.endswith(('.xls', '.xlsx', '.xlsm')):\n",
    "            print (os.path.join(subdir, file))"
   ]
  },
  {
   "cell_type": "code",
   "execution_count": null,
   "id": "ac5f11b2",
   "metadata": {},
   "outputs": [],
   "source": []
  }
 ],
 "metadata": {
  "kernelspec": {
   "display_name": "Python 3 (ipykernel)",
   "language": "python",
   "name": "python3"
  },
  "language_info": {
   "codemirror_mode": {
    "name": "ipython",
    "version": 3
   },
   "file_extension": ".py",
   "mimetype": "text/x-python",
   "name": "python",
   "nbconvert_exporter": "python",
   "pygments_lexer": "ipython3",
   "version": "3.9.13"
  }
 },
 "nbformat": 4,
 "nbformat_minor": 5
}
